{
 "cells": [
  {
   "cell_type": "markdown",
   "id": "ac5f4558",
   "metadata": {},
   "source": [
    "# Deep Q-Learning Algorithm"
   ]
  },
  {
   "cell_type": "markdown",
   "id": "42121666",
   "metadata": {},
   "source": [
    "The code in this submission implements the 'vanilla' deep q-learning algorithm as described in the deep mind paper by Volodymyr Mnih et al.\n",
    "\n",
    "That is to say the q-learning algorithm is improve by the use of memory replay and fixed q targets. Both to help with stability of the algorithm.\n",
    "\n",
    "The code presented here was used to solve the Unity Banana environment described in the readme file.\n",
    "The environment is considered solved if the agent can get an average score of +13 over 100 consecutive episodes.\n",
    "\n",
    "All code was implemented in python and pytorch."
   ]
  },
  {
   "cell_type": "markdown",
   "id": "619e6848",
   "metadata": {},
   "source": [
    "## Hyperparameters"
   ]
  },
  {
   "cell_type": "markdown",
   "id": "8c13e09f",
   "metadata": {},
   "source": [
    "This section describes the hyperparameters used to enable the algorithm to solve the task."
   ]
  },
  {
   "cell_type": "code",
   "execution_count": 3,
   "id": "ea6cc0a5",
   "metadata": {},
   "outputs": [],
   "source": [
    "BUFFER_SIZE = int(1e5)  # replay buffer size\n",
    "BATCH_SIZE = 64         # minibatch size\n",
    "GAMMA = 0.99            # discount factor\n",
    "TAU = 1e-3              # for soft update of target parameters\n",
    "LR = 5e-4               # learning rate \n",
    "UPDATE_EVERY = 4        # how often to update the network"
   ]
  },
  {
   "cell_type": "markdown",
   "id": "3ed4e874",
   "metadata": {},
   "source": [
    "It should be noted that these parameters are not optimized in any way and should be considered sensible defaults.\n",
    "It is possible that a parameter search could increase the efficacy of the code."
   ]
  },
  {
   "cell_type": "markdown",
   "id": "57f2763d",
   "metadata": {},
   "source": [
    "## The Model"
   ]
  },
  {
   "cell_type": "markdown",
   "id": "72d30964",
   "metadata": {},
   "source": [
    "The model used is a neural network implemented in pythorch.\n",
    "It has one imput layer, two hidden layers and a linear output layer.\n",
    "\n",
    "Again the hyperparameters of the network where chosen very much as a guess so performance could almost certainly be improved with more experimentation both in terms of the depth and width of the network.\n",
    "\n",
    "The input and output parameters are obviously dictated by the environment."
   ]
  },
  {
   "cell_type": "markdown",
   "id": "3c3ed2c3",
   "metadata": {},
   "source": [
    "self.layer1 = nn.Linear(state_size, 128)\n",
    "\n",
    "self.layer2 = nn.Linear(128, 64)\n",
    "\n",
    "self.layer3 = nn.Linear(64, 32)\n",
    "\n",
    "self.layer4 = nn.Linear(32, action_size)\n"
   ]
  },
  {
   "cell_type": "markdown",
   "id": "e9288eb1",
   "metadata": {},
   "source": [
    "## The Results"
   ]
  },
  {
   "cell_type": "markdown",
   "id": "f4ac630a",
   "metadata": {},
   "source": [
    "It can be seen below that the average scores quite quickly converged to a score of about 16 within only 800 episode. So the result is quite an improvement compared to the benchmark of 13 after about 1800 episodes.\n",
    "\n",
    "However after 700 episodes the average score flattened off. Indicating that for this implementation there is little to be gained in continuing training after 700 episodes."
   ]
  },
  {
   "cell_type": "raw",
   "id": "f5201b8b",
   "metadata": {},
   "source": [
    "Episode 100\tAverage Score: 0.74\n",
    "Episode 200\tAverage Score: 3.64\n",
    "Episode 300\tAverage Score: 7.05\n",
    "Episode 400\tAverage Score: 9.92\n",
    "Episode 500\tAverage Score: 13.37\n",
    "Episode 600\tAverage Score: 14.53\n",
    "Episode 700\tAverage Score: 15.28\n",
    "Episode 800\tAverage Score: 16.05\n",
    "Episode 900\tAverage Score: 15.66\n",
    "Episode 1000\tAverage Score: 16.76\n",
    "Episode 1100\tAverage Score: 15.85\n",
    "Episode 1200\tAverage Score: 15.96\n",
    "Episode 1300\tAverage Score: 16.52\n",
    "Episode 1400\tAverage Score: 16.28\n",
    "Episode 1500\tAverage Score: 15.21\n",
    "Episode 1600\tAverage Score: 15.58\n",
    "Episode 1700\tAverage Score: 15.30\n",
    "Episode 1800\tAverage Score: 16.22\n",
    "Episode 1900\tAverage Score: 15.60\n",
    "Episode 2000\tAverage Score: 15.98"
   ]
  },
  {
   "cell_type": "code",
   "execution_count": 24,
   "id": "28132ca5",
   "metadata": {},
   "outputs": [],
   "source": [
    "import pickle   \n",
    "with open(\"./scores.txt\", \"rb\") as fh:\n",
    "   scores = pickle.load(fh)"
   ]
  },
  {
   "cell_type": "code",
   "execution_count": 30,
   "id": "5e235df5",
   "metadata": {},
   "outputs": [],
   "source": [
    "import numpy as np\n",
    "import matplotlib.pyplot as plt\n",
    "%matplotlib inline"
   ]
  },
  {
   "cell_type": "markdown",
   "id": "1750d152",
   "metadata": {},
   "source": [
    "### Score Graph"
   ]
  },
  {
   "cell_type": "code",
   "execution_count": 31,
   "id": "08ad2f8a",
   "metadata": {},
   "outputs": [
    {
     "data": {
      "image/png": "[encoded data removed]",
      "text/plain": [
       "<Figure size 432x288 with 1 Axes>"
      ]
     },
     "metadata": {
      "needs_background": "light"
     },
     "output_type": "display_data"
    }
   ],
   "source": [
    "# plot the scores\n",
    "fig = plt.figure()\n",
    "ax = fig.add_subplot(111)\n",
    "plt.plot(np.arange(len(scores)), scores)\n",
    "plt.ylabel('Score')\n",
    "plt.xlabel('Episode #')\n",
    "plt.show()"
   ]
  },
  {
   "cell_type": "markdown",
   "id": "2c917d2f",
   "metadata": {},
   "source": [
    "## Next Steps"
   ]
  },
  {
   "cell_type": "markdown",
   "id": "7f1d0b5b",
   "metadata": {},
   "source": [
    "Even though the current implementation solved the environment the results could almost certainly be imploved.\n",
    "Steps to do this could include:\n",
    "    Optimizing the hyperparameters, including those of the model.\n",
    "    Implementing extention to the implementation including but not restricted to:\n",
    "        Dueling DNQ\n",
    "        Double DNQ\n",
    "        Prioritized Experience Replay"
   ]
  },
  {
   "cell_type": "code",
   "execution_count": null,
   "id": "07c089bc",
   "metadata": {},
   "outputs": [],
   "source": []
  }
 ],
 "metadata": {
  "kernelspec": {
   "display_name": "Python 3",
   "language": "python",
   "name": "python3"
  },
  "language_info": {
   "codemirror_mode": {
    "name": "ipython",
    "version": 3
   },
   "file_extension": ".py",
   "mimetype": "text/x-python",
   "name": "python",
   "nbconvert_exporter": "python",
   "pygments_lexer": "ipython3",
   "version": "3.6.13"
  }
 },
 "nbformat": 4,
 "nbformat_minor": 5
}
